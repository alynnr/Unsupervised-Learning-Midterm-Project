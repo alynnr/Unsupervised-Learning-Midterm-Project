{
 "cells": [
  {
   "cell_type": "markdown",
   "id": "f5125437",
   "metadata": {},
   "source": [
    "# Mid-term Project"
   ]
  },
  {
   "cell_type": "markdown",
   "id": "c690ff88",
   "metadata": {},
   "source": [
    "## Overview\n",
    "This is a summary of our group's workflow throughout the week and the content within each directory for the Mid-term project, NYC neighborhood clustering.\n",
    "\n",
    "Please see the content of  submission.csv for the final result. "
   ]
  },
  {
   "cell_type": "raw",
   "id": "906257d9",
   "metadata": {},
   "source": [
    "##Content table\n",
    "Alex\n",
    "* Datasets for NYC infrastructure and neighborhood clusteirng \n",
    "* Jupyter notebook "
   ]
  },
  {
   "cell_type": "markdown",
   "id": "c05c8db0",
   "metadata": {},
   "source": [
    "### Weekend - Data gathering, filtering and preprocessing \n",
    "Some of the APIs and websites we can use for data gathering:\n",
    "* Foursquare \n",
    "* Yelp\n",
    "* Google Places API\n",
    "* Google Big Query \n",
    "* NYC Public data set\n",
    "* NYC datasets on Kaggle\n",
    "* Various data dashboard on NYC Real Estate\n",
    "\n",
    "### Monday - Modelling and script writing \n",
    "Modelling Techniques:\n",
    "* Unsupervised learning: KMeans, Agglomerative modelling, DBSCAN\n",
    "* Supervised learning: Random Forest, Naive Bayes, XGBoost \n",
    "\n",
    "### Tuesday - formatting Github and project directories\n",
    "* Pulling and pushing from Github\n",
    "* Directory heirarchy, testing and function .py srcipts\n",
    "* Queried data storage in CSV format: different versions of raw vs processed data\n",
    "\n",
    "### Wednesday - Data Visualization \n",
    "* Visualization within Python with Matplotlib \n",
    "* Visualization with Tableau\n",
    "* Visualization with Polymer https://flixgem.com/?sort_by=IMDb%20Score%3Adesc\n",
    "\n",
    "### Thursday - Making the presentation \n",
    "Constructing the narrative within the presentation \n",
    "Possible candidates:\n",
    "* Foreign client/investor looking to purchase real estate within NYC\n",
    "* Consultation service for local small retail business \n",
    "\n",
    "### Friday - Presentation day \n"
   ]
  },
  {
   "cell_type": "code",
   "execution_count": null,
   "id": "2882576c",
   "metadata": {},
   "outputs": [],
   "source": []
  }
 ],
 "metadata": {
  "kernelspec": {
   "display_name": "Python 3",
   "language": "python",
   "name": "python3"
  },
  "language_info": {
   "codemirror_mode": {
    "name": "ipython",
    "version": 3
   },
   "file_extension": ".py",
   "mimetype": "text/x-python",
   "name": "python",
   "nbconvert_exporter": "python",
   "pygments_lexer": "ipython3",
   "version": "3.8.8"
  }
 },
 "nbformat": 4,
 "nbformat_minor": 5
}
