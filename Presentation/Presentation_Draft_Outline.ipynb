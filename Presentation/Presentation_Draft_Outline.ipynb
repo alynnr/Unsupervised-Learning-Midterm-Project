{
 "metadata": {
  "language_info": {
   "codemirror_mode": {
    "name": "ipython",
    "version": 3
   },
   "file_extension": ".py",
   "mimetype": "text/x-python",
   "name": "python",
   "nbconvert_exporter": "python",
   "pygments_lexer": "ipython3",
   "version": 3
  },
  "orig_nbformat": 2
 },
 "nbformat": 4,
 "nbformat_minor": 2,
 "cells": [
  {
   "source": [
    "# Presentation Draft Outline\n",
    "\n",
    "## Ideally 7-7.5 minutes total"
   ],
   "cell_type": "markdown",
   "metadata": {}
  },
  {
   "source": [
    "# JESSE - BUSINESS CASE - **30 seconds**\n",
    "## Business Case Slide \n",
    "* We come into this project in the role of a consultative group for a Pan Pacific Platinum Prestige Partnership Properties that is looking to develop a footing and expand its market within New York City. \n",
    "* The goal is to identify flagship properties within the 5 boroughs that are both competitive in pricing and potent in long-term value accumulation."
   ],
   "cell_type": "markdown",
   "metadata": {}
  },
  {
   "source": [
    "# ALEX - TOOLS USED - **30 seconds**\n",
    "## Tools Used Slide\n",
    "We use a wide selection of the best-in-industry tools to evaluate the city's real estate market segmentations, and we're confident our combination of in-depth data exploration and analysis provides us with the best results to offer to you.\n",
    "<br>\n",
    "* Data Exploration: NYC Planning, Google Places API, Pluto Data, NYC Open Data, Yelp\n",
    "* Data Analysis: Plotly, SKLearn, GeoPandas, Matplotlib\n",
    "* Presentation: Canva, Unsplash"
   ],
   "cell_type": "markdown",
   "metadata": {}
  },
  {
   "source": [
    "# ALEX - CLUSTERING - **1.5 min**\n",
    "## NYC Map Slide\n",
    "* To start our exploration into New York City neighborhoods, we began by looking at the city services and infrastructure offered in each neighborhood.  \n",
    "* After gathering and preparing this data, by performing Dimensionality Reduction with Principal Component Analysis and then Clustering using KMeans Algorithm, we are able to notice 4 distinct clusters of neighborhoods.\n",
    "* Utilizing Geospatial Proccessing, we can visualize these clusters on a map of the city, and notice some interesting relationships.\n",
    "* The two smallest clusters, both with just 11 neighborhoods in each, out of our 195 total, represent most of Manhattan in Orange, and an array of neighborhoods throughout Queens and Brooklyn in Red\n",
    "* Given that property in Manhattan is the most expensive in New York City, we will demonstrate here that the neighborhoods of Hunters Point in Queens and DUMBO in Brooklyn represent an opportunity for real estate investment with a smaller ask but still all the desirable aspects of Manhattan property\n",
    "\n",
    "## City Amenities and Infrastructure\n",
    "* When we view our original data, now showing the average number of services per neighborhood grouped by these clusters we've identified, the Orange of the Manhattan cluster clearly has a lot to offer residents,\n",
    "* However you can also see that our neighborhoods in Brooklyn and Queens in Red in every instance exceeds the offerings outside of Manhattan, and in many cases even exceeds those within Manhattan as well\n",
    "\n",
    "## Education & Environment Slides\n",
    "* Education and Lifestyle are incredibly important to clients making real estate decisions, and here you can see the average SAT scores are incredibly competitve between these neighborhoods\n",
    "    * additionally of note is that our Brooklyn and Queens neighborhoods offers some of the lowest average student enrollment, leading to smaller ratios between students and teachers\n",
    "* And as we all know every successful person loves dogs and nature, and you can see that these neighborhoods are flourishing in that arena as well"
   ],
   "cell_type": "markdown",
   "metadata": {}
  },
  {
   "source": [
    "# HARPREET - CLUSTERING - **1.5 min**\n",
    "## Culture & Food\n",
    "* Exploring Neighborhoods in NYC through their food culture\n",
    "* \"Traditional cuisine is passed down from one generation to the next. It also operates as an expression of cultural identity. Immigrants bring the food of their countries with them wherever they go and cooking traditional food is a way of preserving their culture when they move to new places\".\n",
    "\n",
    "## Process\n",
    "* The idea of this project is to categorically segment the neighborhoods of New York City into major clusters and examine their cuisines. A desirable intention is to examine the neighborhood cluster’s food habits and taste\n",
    "* Exploratory Data Analysis\n",
    "    * Total number of venues was 13,816\n",
    "    * Found 92 venue categories\n",
    "    * Top 10 categories \n",
    "\n",
    "## NYC Food Clustering Analysis\n",
    "* In comparing the restaurants in Manhattan, Brooklyn, Queens\n",
    "    * Most common cuisine in Manhattan is Italian Restaurants,\n",
    "    * In Queens it is also Italian\n",
    "    * In Brooklyn it is Pizza Places which is fairly similar to Italian as well\n",
    "* This shows that within Brooklyn and Queens, residents could get similar food experiences to that in Manhattan, further exemplifying the relationship between these neighborhoods"
   ],
   "cell_type": "markdown",
   "metadata": {}
  },
  {
   "source": [
    "# JESSE - CLUSTERING - **1.5 min**\n",
    "## Three Clusters of Towers Slide\n",
    "* Pluto dataset, from the NYC department of planning, consists of 800000 buildings and 90 features.\n",
    "* In order to suit the particular interests of our client, a large real estate investment firm looking for a flagship product as they initiate their interest in the New York city real estate market, I have limited my inquiry to qualifying buildings within the 5 boroughs, with a minimal height of 210 feet, around 15 floors. \n",
    "* The three graphs, colored by their respective clustering, show the three main characteristics of these buildings: age, zoning and a combination of these two above factors with each building’s various assessed values. \n",
    "* We can see that the two concentration of  buildings, within the DUMBO neighborhood of Brooklyn and Hunter’s point neighborhood of Queens, have the distinct advantages of belonging to the newest age group, being residential buildings and therefore consistent in terms of valuation growth and demand, and finally competitive in  their purchasing cost in comparison to their counterparts on the main island of Manhattan. \n",
    "\n",
    "## PCA and others Slide\n",
    "* These clustering have been cross validated with other techniques, such as Principal Component analysis and various supervised classification models, to prove their validity."
   ],
   "cell_type": "markdown",
   "metadata": {}
  },
  {
   "source": [
    "# JESSE - TOWERS - **30 seconds**\n",
    "## Focal point properties Slide\n",
    "* Now I will present two specific properties within the neighborhood Alex has identified to exemplify what we, as a consultation voice, would advise our investors to look into\n",
    "* The first building on the left, 230 Ashland Place, located at the heart of Brooklyn in close proximity to the central hub of Barclay transport junction, is built in 2006. \n",
    "    * It has 28 floors, with a total unit count of 109. It’s assessed total value, under the Department of Taxation and Financing, is 11 million. \n",
    "    * With a median closing price per square foot of 1100 dollars, it is comparably undervalued to its Manhattan counterpart.\n",
    "* The second building on the right, Tower 28, is a newer example. \n",
    "    * Built in 2015, within the framework of Queens West project, the building has 58 floors with a total unit count of 478. \n",
    "    * Its current assessed value is 44 million dollars. "
   ],
   "cell_type": "markdown",
   "metadata": {}
  },
  {
   "source": [
    "# Conclusion\n",
    "* In conclusion, we believe that through our rigorous statistical and data analysis we provide our clients with a unique perspective for how they might choose to initiate their investment strategy in the New York City real estate market. And we look forward to working with you further in the future.  Thank you!"
   ],
   "cell_type": "markdown",
   "metadata": {}
  }
 ]
}